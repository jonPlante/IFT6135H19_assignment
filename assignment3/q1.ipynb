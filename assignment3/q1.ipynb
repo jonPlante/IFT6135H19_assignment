{
 "cells": [
  {
   "cell_type": "code",
   "execution_count": 1,
   "metadata": {},
   "outputs": [],
   "source": [
    "from samplers import *\n",
    "\n",
    "import numpy as np\n",
    "import sklearn\n",
    "import sklearn.metrics\n",
    "import scipy\n",
    "import torch\n",
    "from torch import nn\n",
    "import torch.nn.functional as F\n",
    "from matplotlib import pyplot as plt\n"
   ]
  },
  {
   "cell_type": "code",
   "execution_count": 16,
   "metadata": {},
   "outputs": [],
   "source": [
    "class MLP(nn.Module):\n",
    "    def __init__(self):\n",
    "        super(MLP, self).__init__()\n",
    "        self.fc1 = nn.Linear(512, 512)\n",
    "        self.fc2 = nn.Linear(512, 512)\n",
    "        self.fc3 = nn.Linear(512, 512)\n",
    "    \n",
    "    def forward(self, x):\n",
    "        x = x.view(-1, 512)\n",
    "        x = F.relu(self.fc1(x))\n",
    "        x = F.relu(self.fc2(x))\n",
    "        x = F.sigmoid(self.fc3(x))\n",
    "        return x\n",
    "    \n",
    "    def name(self):\n",
    "        return \"MLP\"\n"
   ]
  },
  {
   "cell_type": "code",
   "execution_count": 46,
   "metadata": {},
   "outputs": [],
   "source": [
    "D = MLP()"
   ]
  },
  {
   "cell_type": "code",
   "execution_count": 47,
   "metadata": {},
   "outputs": [],
   "source": [
    "lr = 0.001\n",
    "optimizer = torch.optim.SGD(D.parameters(), lr=lr)"
   ]
  },
  {
   "cell_type": "code",
   "execution_count": 48,
   "metadata": {},
   "outputs": [
    {
     "name": "stderr",
     "output_type": "stream",
     "text": [
      "/Users/martinweiss/.pyenv/versions/3.5.2/lib/python3.5/site-packages/torch/nn/functional.py:1332: UserWarning: nn.functional.sigmoid is deprecated. Use torch.sigmoid instead.\n",
      "  warnings.warn(\"nn.functional.sigmoid is deprecated. Use torch.sigmoid instead.\")\n"
     ]
    },
    {
     "name": "stdout",
     "output_type": "stream",
     "text": [
      "tensor(0.0012)\n",
      "tensor(-0.0002)\n",
      "tensor(-0.0030)\n",
      "tensor(-0.0035)\n",
      "tensor(-0.0036)\n",
      "tensor(-0.0055)\n",
      "tensor(-0.0099)\n",
      "tensor(-0.0078)\n",
      "tensor(-0.0098)\n",
      "tensor(-0.0093)\n",
      "tensor(-0.0136)\n",
      "tensor(-0.0168)\n",
      "tensor(-0.0160)\n",
      "tensor(-0.0211)\n",
      "tensor(-0.0222)\n",
      "tensor(-0.0248)\n",
      "tensor(-0.0263)\n",
      "tensor(-0.0299)\n",
      "tensor(-0.0330)\n",
      "tensor(-0.0385)\n",
      "tensor(-0.0558)\n",
      "tensor(-0.0417)\n",
      "tensor(-0.0497)\n",
      "tensor(-0.0600)\n",
      "tensor(-0.0725)\n",
      "tensor(-0.0764)\n",
      "tensor(-0.0698)\n",
      "tensor(-0.0810)\n",
      "tensor(-0.1006)\n",
      "tensor(-0.1024)\n",
      "tensor(-0.1042)\n",
      "tensor(-0.1277)\n",
      "tensor(-0.1294)\n",
      "tensor(-0.1377)\n",
      "tensor(-0.1346)\n",
      "tensor(-0.1822)\n",
      "tensor(-0.1939)\n",
      "tensor(-0.2051)\n",
      "tensor(-0.1986)\n",
      "tensor(-0.2204)\n",
      "tensor(-0.2227)\n",
      "tensor(-0.2708)\n",
      "tensor(-0.2598)\n",
      "tensor(-0.3121)\n",
      "tensor(-0.2799)\n",
      "tensor(-0.3124)\n",
      "tensor(-0.2881)\n",
      "tensor(-0.3525)\n",
      "tensor(-0.3427)\n",
      "tensor(-0.4249)\n",
      "tensor(-0.4696)\n",
      "tensor(-0.4393)\n",
      "tensor(-0.4993)\n",
      "tensor(-0.5246)\n",
      "tensor(-0.5315)\n",
      "tensor(-0.4788)\n",
      "tensor(-0.5082)\n",
      "tensor(-0.5100)\n",
      "tensor(-0.5744)\n",
      "tensor(-0.5619)\n",
      "tensor(-0.5705)\n",
      "tensor(-0.5894)\n",
      "tensor(-0.5969)\n",
      "tensor(-0.5927)\n",
      "tensor(-0.5952)\n",
      "tensor(-0.5936)\n",
      "tensor(-0.6187)\n",
      "tensor(-0.6232)\n",
      "tensor(-0.6426)\n",
      "tensor(-0.6423)\n",
      "tensor(-0.5725)\n",
      "tensor(-0.6449)\n",
      "tensor(-0.6027)\n",
      "tensor(-0.5992)\n",
      "tensor(-0.6264)\n",
      "tensor(-0.6554)\n",
      "tensor(-0.6342)\n",
      "tensor(-0.6565)\n",
      "tensor(-0.6516)\n",
      "tensor(-0.6559)\n",
      "tensor(-0.6564)\n",
      "tensor(-0.6590)\n",
      "tensor(-0.6433)\n",
      "tensor(-0.6057)\n",
      "tensor(-0.6114)\n",
      "tensor(-0.6656)\n",
      "tensor(-0.6492)\n",
      "tensor(-0.6645)\n",
      "tensor(-0.6649)\n",
      "tensor(-0.6645)\n",
      "tensor(-0.6398)\n",
      "tensor(-0.6772)\n",
      "tensor(-0.6635)\n",
      "tensor(-0.6691)\n",
      "tensor(-0.6674)\n",
      "tensor(-0.6704)\n",
      "tensor(-0.6696)\n",
      "tensor(-0.6711)\n",
      "tensor(-0.6756)\n",
      "tensor(-0.6587)\n"
     ]
    }
   ],
   "source": [
    "losses = []\n",
    "n_epochs = 100000\n",
    "for epoch in range(n_epochs):\n",
    "    x_d = torch.FloatTensor(next(distribution4(512)))\n",
    "    y_g = torch.FloatTensor(next(distribution2()))\n",
    "    optimizer.zero_grad()\n",
    "    loss = -(np.log(2) + 0.5 * torch.mean(torch.log(D(x_d))) + 0.5 * torch.mean(torch.log(1 - D(y_g))))\n",
    "    loss.backward()\n",
    "    optimizer.step()\n",
    "    losses.append(loss.data.numpy())\n",
    "    if epoch % 1000 == 0:\n",
    "        print(loss.data)\n",
    "    "
   ]
  },
  {
   "cell_type": "code",
   "execution_count": 49,
   "metadata": {},
   "outputs": [
    {
     "data": {
      "text/plain": [
       "[<matplotlib.lines.Line2D at 0x118d6ac18>]"
      ]
     },
     "execution_count": 49,
     "metadata": {},
     "output_type": "execute_result"
    },
    {
     "data": {
      "image/png": "[encoded data removed]",
      "text/plain": [
       "<Figure size 432x288 with 1 Axes>"
      ]
     },
     "metadata": {},
     "output_type": "display_data"
    }
   ],
   "source": [
    "plt.plot(np.array(losses).flatten())"
   ]
  },
  {
   "cell_type": "code",
   "execution_count": null,
   "metadata": {},
   "outputs": [],
   "source": []
  },
  {
   "cell_type": "code",
   "execution_count": null,
   "metadata": {},
   "outputs": [],
   "source": []
  },
  {
   "cell_type": "code",
   "execution_count": 248,
   "metadata": {},
   "outputs": [],
   "source": [
    "def jsd(p, q):\n",
    "    # find the norm and calculate r\n",
    "    p = (p / p.sum()).flatten()\n",
    "    q = (q / q.sum()).flatten()\n",
    "    r = 0.5 * (p + q)\n",
    "    \n",
    "    # find the first kl and do some data wrangling (we get some nans)\n",
    "    first_kl = p * np.log(p / r)\n",
    "    first_kl[np.isnan(first_kl)] = 100.\n",
    "    first_kl = np.sum(first_kl)\n",
    "\n",
    "    # find the first kl and do some data wrangling (we get some nans)\n",
    "    second_kl = q * np.log(q / r)\n",
    "    second_kl[np.isnan(second_kl)] = 100.\n",
    "    second_kl = np.sum(second_kl)\n",
    "    \n",
    "    # find the JSD\n",
    "    return np.log(2) + first_kl / 2. + second_kl / 2.\n"
   ]
  },
  {
   "cell_type": "code",
   "execution_count": null,
   "metadata": {},
   "outputs": [],
   "source": []
  },
  {
   "cell_type": "code",
   "execution_count": 261,
   "metadata": {},
   "outputs": [
    {
     "name": "stderr",
     "output_type": "stream",
     "text": [
      "/Users/martinweiss/.pyenv/versions/3.5.2/lib/python3.5/site-packages/ipykernel_launcher.py:9: RuntimeWarning: invalid value encountered in log\n",
      "  if __name__ == '__main__':\n",
      "/Users/martinweiss/.pyenv/versions/3.5.2/lib/python3.5/site-packages/ipykernel_launcher.py:14: RuntimeWarning: invalid value encountered in log\n",
      "  \n"
     ]
    },
    {
     "data": {
      "text/plain": [
       "9000.440461633685"
      ]
     },
     "execution_count": 261,
     "metadata": {},
     "output_type": "execute_result"
    }
   ],
   "source": [
    "jsd(x_d.flatten().numpy(), y_g[:512, 0].numpy())"
   ]
  },
  {
   "cell_type": "code",
   "execution_count": null,
   "metadata": {},
   "outputs": [],
   "source": []
  },
  {
   "cell_type": "code",
   "execution_count": 50,
   "metadata": {},
   "outputs": [
    {
     "name": "stderr",
     "output_type": "stream",
     "text": [
      "/Users/martinweiss/.pyenv/versions/3.5.2/lib/python3.5/site-packages/ipykernel_launcher.py:9: RuntimeWarning: invalid value encountered in log\n",
      "  if __name__ == '__main__':\n",
      "/Users/martinweiss/.pyenv/versions/3.5.2/lib/python3.5/site-packages/ipykernel_launcher.py:14: RuntimeWarning: invalid value encountered in log\n",
      "  \n"
     ]
    },
    {
     "data": {
      "text/plain": [
       "0.20500252021681908"
      ]
     },
     "execution_count": 50,
     "metadata": {},
     "output_type": "execute_result"
    }
   ],
   "source": [
    "\n",
    "jsd(next(distribution3()), next(distribution3()))"
   ]
  },
  {
   "cell_type": "code",
   "execution_count": null,
   "metadata": {},
   "outputs": [],
   "source": []
  },
  {
   "cell_type": "code",
   "execution_count": null,
   "metadata": {},
   "outputs": [],
   "source": []
  },
  {
   "cell_type": "code",
   "execution_count": null,
   "metadata": {},
   "outputs": [],
   "source": []
  },
  {
   "cell_type": "code",
   "execution_count": 73,
   "metadata": {},
   "outputs": [],
   "source": [
    "def calc_gradient_penalty(D, real_data, fake_data):\n",
    "    alpha = torch.rand(512, 1)\n",
    "    alpha = alpha.expand(real_data.size())\n",
    "\n",
    "    interpolates = alpha * real_data + ((1 - alpha) * fake_data)\n",
    "    interpolates = torch.autograd.Variable(interpolates, requires_grad=True)\n",
    "    disc_interpolates = D(interpolates)\n",
    "\n",
    "    gradients = torch.autograd.grad(outputs=disc_interpolates, inputs=interpolates,\n",
    "                              grad_outputs= torch.ones(disc_interpolates.size()),\n",
    "                              create_graph=True, retain_graph=True, only_inputs=True)[0]\n",
    "    lamb = 0.1\n",
    "    gradient_penalty = ((gradients.norm(2, dim=1) - 1) ** 2).mean() * lamb\n",
    "    return gradient_penalty\n"
   ]
  },
  {
   "cell_type": "code",
   "execution_count": 79,
   "metadata": {},
   "outputs": [],
   "source": [
    "D = MLP()"
   ]
  },
  {
   "cell_type": "code",
   "execution_count": 80,
   "metadata": {},
   "outputs": [],
   "source": [
    "lr = 0.001\n",
    "optimizer = torch.optim.SGD(D.parameters(), lr=lr)"
   ]
  },
  {
   "cell_type": "code",
   "execution_count": 83,
   "metadata": {},
   "outputs": [
    {
     "name": "stderr",
     "output_type": "stream",
     "text": [
      "/Users/martinweiss/.pyenv/versions/3.5.2/lib/python3.5/site-packages/torch/nn/functional.py:1332: UserWarning: nn.functional.sigmoid is deprecated. Use torch.sigmoid instead.\n",
      "  warnings.warn(\"nn.functional.sigmoid is deprecated. Use torch.sigmoid instead.\")\n"
     ]
    },
    {
     "name": "stdout",
     "output_type": "stream",
     "text": [
      "tensor(0.0918)\n",
      "tensor(0.0899)\n",
      "tensor(0.0850)\n",
      "tensor(0.0833)\n",
      "tensor(0.0797)\n",
      "tensor(0.0784)\n",
      "tensor(0.0692)\n",
      "tensor(0.0680)\n",
      "tensor(0.0584)\n",
      "tensor(0.0535)\n",
      "tensor(0.0435)\n",
      "tensor(0.0363)\n",
      "tensor(0.0238)\n",
      "tensor(0.0057)\n",
      "tensor(0.0055)\n",
      "tensor(-0.0063)\n",
      "tensor(-0.0435)\n",
      "tensor(-0.0434)\n",
      "tensor(-0.0713)\n",
      "tensor(-0.1219)\n",
      "tensor(-0.1149)\n",
      "tensor(-0.1736)\n",
      "tensor(-0.1977)\n",
      "tensor(-0.1777)\n",
      "tensor(-0.2376)\n",
      "tensor(-0.2315)\n",
      "tensor(-0.2688)\n",
      "tensor(-0.2666)\n",
      "tensor(-0.3292)\n",
      "tensor(-0.3647)\n",
      "tensor(-0.3087)\n",
      "tensor(-0.3816)\n",
      "tensor(-0.3471)\n",
      "tensor(-0.3796)\n",
      "tensor(-0.4044)\n",
      "tensor(-0.4120)\n",
      "tensor(-0.4627)\n",
      "tensor(-0.4537)\n",
      "tensor(-0.4911)\n",
      "tensor(-0.4934)\n",
      "tensor(-0.5630)\n",
      "tensor(-0.5080)\n",
      "tensor(-0.5723)\n",
      "tensor(-0.5795)\n",
      "tensor(-0.5157)\n",
      "tensor(-0.5661)\n",
      "tensor(-0.5583)\n",
      "tensor(-0.5573)\n",
      "tensor(-0.5807)\n",
      "tensor(-0.5637)\n",
      "tensor(-0.6350)\n",
      "tensor(-0.5792)\n",
      "tensor(-0.5869)\n",
      "tensor(-0.5037)\n",
      "tensor(-0.5725)\n",
      "tensor(-0.5230)\n",
      "tensor(-0.5827)\n",
      "tensor(-0.5956)\n",
      "tensor(-0.6062)\n",
      "tensor(-0.5268)\n",
      "tensor(-0.5725)\n",
      "tensor(-0.6682)\n",
      "tensor(-0.6585)\n",
      "tensor(-0.5972)\n",
      "tensor(-0.5589)\n",
      "tensor(-0.6224)\n",
      "tensor(-0.6637)\n",
      "tensor(-0.7174)\n",
      "tensor(-0.7388)\n",
      "tensor(-0.7282)\n",
      "tensor(-0.7261)\n",
      "tensor(-0.7496)\n",
      "tensor(-0.7278)\n",
      "tensor(-0.6355)\n",
      "tensor(-0.7632)\n",
      "tensor(-0.7217)\n"
     ]
    },
    {
     "ename": "KeyboardInterrupt",
     "evalue": "",
     "output_type": "error",
     "traceback": [
      "\u001b[0;31m---------------------------------------------------------------------------\u001b[0m",
      "\u001b[0;31mKeyboardInterrupt\u001b[0m                         Traceback (most recent call last)",
      "\u001b[0;32m<ipython-input-83-8353944c29b5>\u001b[0m in \u001b[0;36m<module>\u001b[0;34m()\u001b[0m\n\u001b[1;32m     17\u001b[0m     \u001b[0md_losses\u001b[0m\u001b[0;34m.\u001b[0m\u001b[0mappend\u001b[0m\u001b[0;34m(\u001b[0m\u001b[0md_loss\u001b[0m\u001b[0;34m.\u001b[0m\u001b[0mdata\u001b[0m\u001b[0;34m.\u001b[0m\u001b[0mnumpy\u001b[0m\u001b[0;34m(\u001b[0m\u001b[0;34m)\u001b[0m\u001b[0;34m)\u001b[0m\u001b[0;34m\u001b[0m\u001b[0m\n\u001b[1;32m     18\u001b[0m \u001b[0;34m\u001b[0m\u001b[0m\n\u001b[0;32m---> 19\u001b[0;31m     \u001b[0mgradient_penalty\u001b[0m \u001b[0;34m=\u001b[0m \u001b[0mcalc_gradient_penalty\u001b[0m\u001b[0;34m(\u001b[0m\u001b[0mD\u001b[0m\u001b[0;34m,\u001b[0m \u001b[0mx_d\u001b[0m\u001b[0;34m.\u001b[0m\u001b[0mdata\u001b[0m\u001b[0;34m,\u001b[0m \u001b[0my_g\u001b[0m\u001b[0;34m.\u001b[0m\u001b[0mdata\u001b[0m\u001b[0;34m)\u001b[0m\u001b[0;34m\u001b[0m\u001b[0m\n\u001b[0m\u001b[1;32m     20\u001b[0m     \u001b[0mgp_losses\u001b[0m\u001b[0;34m.\u001b[0m\u001b[0mappend\u001b[0m\u001b[0;34m(\u001b[0m\u001b[0mgradient_penalty\u001b[0m\u001b[0;34m.\u001b[0m\u001b[0mdata\u001b[0m\u001b[0;34m.\u001b[0m\u001b[0mnumpy\u001b[0m\u001b[0;34m(\u001b[0m\u001b[0;34m)\u001b[0m\u001b[0;34m)\u001b[0m\u001b[0;34m\u001b[0m\u001b[0m\n\u001b[1;32m     21\u001b[0m     \u001b[0mgradient_penalty\u001b[0m\u001b[0;34m.\u001b[0m\u001b[0mbackward\u001b[0m\u001b[0;34m(\u001b[0m\u001b[0;34m)\u001b[0m\u001b[0;34m\u001b[0m\u001b[0m\n",
      "\u001b[0;32m<ipython-input-73-a920544a4f29>\u001b[0m in \u001b[0;36mcalc_gradient_penalty\u001b[0;34m(D, real_data, fake_data)\u001b[0m\n\u001b[1;32m     10\u001b[0m     gradients = torch.autograd.grad(outputs=disc_interpolates, inputs=interpolates,\n\u001b[1;32m     11\u001b[0m                               \u001b[0mgrad_outputs\u001b[0m\u001b[0;34m=\u001b[0m \u001b[0mtorch\u001b[0m\u001b[0;34m.\u001b[0m\u001b[0mones\u001b[0m\u001b[0;34m(\u001b[0m\u001b[0mdisc_interpolates\u001b[0m\u001b[0;34m.\u001b[0m\u001b[0msize\u001b[0m\u001b[0;34m(\u001b[0m\u001b[0;34m)\u001b[0m\u001b[0;34m)\u001b[0m\u001b[0;34m,\u001b[0m\u001b[0;34m\u001b[0m\u001b[0m\n\u001b[0;32m---> 12\u001b[0;31m                               create_graph=True, retain_graph=True, only_inputs=True)[0]\n\u001b[0m\u001b[1;32m     13\u001b[0m     \u001b[0mlamb\u001b[0m \u001b[0;34m=\u001b[0m \u001b[0;36m0.1\u001b[0m\u001b[0;34m\u001b[0m\u001b[0m\n\u001b[1;32m     14\u001b[0m     \u001b[0mgradient_penalty\u001b[0m \u001b[0;34m=\u001b[0m \u001b[0;34m(\u001b[0m\u001b[0;34m(\u001b[0m\u001b[0mgradients\u001b[0m\u001b[0;34m.\u001b[0m\u001b[0mnorm\u001b[0m\u001b[0;34m(\u001b[0m\u001b[0;36m2\u001b[0m\u001b[0;34m,\u001b[0m \u001b[0mdim\u001b[0m\u001b[0;34m=\u001b[0m\u001b[0;36m1\u001b[0m\u001b[0;34m)\u001b[0m \u001b[0;34m-\u001b[0m \u001b[0;36m1\u001b[0m\u001b[0;34m)\u001b[0m \u001b[0;34m**\u001b[0m \u001b[0;36m2\u001b[0m\u001b[0;34m)\u001b[0m\u001b[0;34m.\u001b[0m\u001b[0mmean\u001b[0m\u001b[0;34m(\u001b[0m\u001b[0;34m)\u001b[0m \u001b[0;34m*\u001b[0m \u001b[0mlamb\u001b[0m\u001b[0;34m\u001b[0m\u001b[0m\n",
      "\u001b[0;32m~/.pyenv/versions/3.5.2/lib/python3.5/site-packages/torch/autograd/__init__.py\u001b[0m in \u001b[0;36mgrad\u001b[0;34m(outputs, inputs, grad_outputs, retain_graph, create_graph, only_inputs, allow_unused)\u001b[0m\n\u001b[1;32m    143\u001b[0m     return Variable._execution_engine.run_backward(\n\u001b[1;32m    144\u001b[0m         \u001b[0moutputs\u001b[0m\u001b[0;34m,\u001b[0m \u001b[0mgrad_outputs\u001b[0m\u001b[0;34m,\u001b[0m \u001b[0mretain_graph\u001b[0m\u001b[0;34m,\u001b[0m \u001b[0mcreate_graph\u001b[0m\u001b[0;34m,\u001b[0m\u001b[0;34m\u001b[0m\u001b[0m\n\u001b[0;32m--> 145\u001b[0;31m         inputs, allow_unused)\n\u001b[0m\u001b[1;32m    146\u001b[0m \u001b[0;34m\u001b[0m\u001b[0m\n\u001b[1;32m    147\u001b[0m \u001b[0;34m\u001b[0m\u001b[0m\n",
      "\u001b[0;31mKeyboardInterrupt\u001b[0m: "
     ]
    }
   ],
   "source": [
    "d_losses = []\n",
    "gp_losses = []\n",
    "total_losses = []\n",
    "n_epochs = 100000\n",
    "\n",
    "for epoch in range(n_epochs):\n",
    "    x_d = torch.FloatTensor(next(distribution4(512)))\n",
    "    y_g = torch.FloatTensor(next(distribution2()))\n",
    "    optimizer.zero_grad()\n",
    "    \n",
    "    d_real = D(x_d)\n",
    "    d_real_loss = -torch.mean(d_real)\n",
    "    d_fake = D(y_g)\n",
    "    d_fake_loss = torch.mean(d_fake)\n",
    "    d_loss = d_real_loss + d_fake_loss\n",
    "    d_loss.backward()\n",
    "    d_losses.append(d_loss.data.numpy())\n",
    "    \n",
    "    gradient_penalty = calc_gradient_penalty(D, x_d.data, y_g.data)\n",
    "    gp_losses.append(gradient_penalty.data.numpy())\n",
    "    gradient_penalty.backward()\n",
    "    optimizer.step()\n",
    "\n",
    "    cost = d_loss + gradient_penalty\n",
    "    total_losses.append(cost.data.numpy())\n",
    "    if epoch % 1000 == 0:\n",
    "        print(cost.data)\n",
    "    "
   ]
  },
  {
   "cell_type": "code",
   "execution_count": 85,
   "metadata": {},
   "outputs": [
    {
     "data": {
      "text/plain": [
       "[<matplotlib.lines.Line2D at 0x118d4c7f0>]"
      ]
     },
     "execution_count": 85,
     "metadata": {},
     "output_type": "execute_result"
    },
    {
     "data": {
      "image/png": "[encoded data removed]",
      "text/plain": [
       "<Figure size 432x288 with 1 Axes>"
      ]
     },
     "metadata": {},
     "output_type": "display_data"
    }
   ],
   "source": [
    "plt.plot(np.array(total_losses).flatten())"
   ]
  },
  {
   "cell_type": "code",
   "execution_count": 86,
   "metadata": {},
   "outputs": [
    {
     "data": {
      "text/plain": [
       "[<matplotlib.lines.Line2D at 0x11ba45588>]"
      ]
     },
     "execution_count": 86,
     "metadata": {},
     "output_type": "execute_result"
    },
    {
     "data": {
      "image/png": "[encoded data removed]",
      "text/plain": [
       "<Figure size 432x288 with 1 Axes>"
      ]
     },
     "metadata": {},
     "output_type": "display_data"
    }
   ],
   "source": [
    "plt.plot(np.array(gp_losses).flatten())"
   ]
  },
  {
   "cell_type": "code",
   "execution_count": 87,
   "metadata": {},
   "outputs": [
    {
     "data": {
      "text/plain": [
       "[<matplotlib.lines.Line2D at 0x11c66d390>]"
      ]
     },
     "execution_count": 87,
     "metadata": {},
     "output_type": "execute_result"
    },
    {
     "data": {
      "image/png": "[encoded data removed]",
      "text/plain": [
       "<Figure size 432x288 with 1 Axes>"
      ]
     },
     "metadata": {},
     "output_type": "display_data"
    }
   ],
   "source": [
    "plt.plot(np.array(d_losses).flatten())"
   ]
  },
  {
   "cell_type": "code",
   "execution_count": null,
   "metadata": {},
   "outputs": [],
   "source": []
  }
 ],
 "metadata": {
  "kernelspec": {
   "display_name": "Python 3",
   "language": "python",
   "name": "python3"
  },
  "language_info": {
   "codemirror_mode": {
    "name": "ipython",
    "version": 3
   },
   "file_extension": ".py",
   "mimetype": "text/x-python",
   "name": "python",
   "nbconvert_exporter": "python",
   "pygments_lexer": "ipython3",
   "version": "3.5.2"
  }
 },
 "nbformat": 4,
 "nbformat_minor": 2
}
