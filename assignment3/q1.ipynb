{
 "cells": [
  {
   "cell_type": "code",
   "execution_count": 1,
   "metadata": {},
   "outputs": [],
   "source": [
    "from samplers import *\n",
    "\n",
    "import numpy as np\n",
    "import sklearn\n",
    "import sklearn.metrics\n",
    "import scipy\n",
    "import torch\n",
    "from torch import nn\n",
    "import torch.nn.functional as F\n",
    "from matplotlib import pyplot as plt\n"
   ]
  },
  {
   "cell_type": "code",
   "execution_count": 16,
   "metadata": {},
   "outputs": [],
   "source": [
    "class MLP(nn.Module):\n",
    "    def __init__(self):\n",
    "        super(MLP, self).__init__()\n",
    "        self.fc1 = nn.Linear(512, 512)\n",
    "        self.fc2 = nn.Linear(512, 512)\n",
    "        self.fc3 = nn.Linear(512, 512)\n",
    "    \n",
    "    def forward(self, x):\n",
    "        x = x.view(-1, 512)\n",
    "        x = F.relu(self.fc1(x))\n",
    "        x = F.relu(self.fc2(x))\n",
    "        x = F.sigmoid(self.fc3(x))\n",
    "        return x\n",
    "    \n",
    "    def name(self):\n",
    "        return \"MLP\"\n"
   ]
  },
  {
   "cell_type": "code",
   "execution_count": 46,
   "metadata": {},
   "outputs": [],
   "source": [
    "D = MLP()"
   ]
  },
  {
   "cell_type": "code",
   "execution_count": 47,
   "metadata": {},
   "outputs": [],
   "source": [
    "lr = 0.001\n",
    "optimizer = torch.optim.SGD(D.parameters(), lr=lr)"
   ]
  },
  {
   "cell_type": "code",
   "execution_count": 48,
   "metadata": {},
   "outputs": [
    {
     "name": "stderr",
     "output_type": "stream",
     "text": [
      "/Users/martinweiss/.pyenv/versions/3.5.2/lib/python3.5/site-packages/torch/nn/functional.py:1332: UserWarning: nn.functional.sigmoid is deprecated. Use torch.sigmoid instead.\n",
      "  warnings.warn(\"nn.functional.sigmoid is deprecated. Use torch.sigmoid instead.\")\n"
     ]
    },
    {
     "name": "stdout",
     "output_type": "stream",
     "text": [
      "tensor(0.0012)\n",
      "tensor(-0.0002)\n",
      "tensor(-0.0030)\n",
      "tensor(-0.0035)\n",
      "tensor(-0.0036)\n",
      "tensor(-0.0055)\n",
      "tensor(-0.0099)\n",
      "tensor(-0.0078)\n",
      "tensor(-0.0098)\n",
      "tensor(-0.0093)\n",
      "tensor(-0.0136)\n",
      "tensor(-0.0168)\n",
      "tensor(-0.0160)\n",
      "tensor(-0.0211)\n",
      "tensor(-0.0222)\n",
      "tensor(-0.0248)\n",
      "tensor(-0.0263)\n",
      "tensor(-0.0299)\n",
      "tensor(-0.0330)\n",
      "tensor(-0.0385)\n",
      "tensor(-0.0558)\n",
      "tensor(-0.0417)\n",
      "tensor(-0.0497)\n",
      "tensor(-0.0600)\n",
      "tensor(-0.0725)\n",
      "tensor(-0.0764)\n",
      "tensor(-0.0698)\n",
      "tensor(-0.0810)\n",
      "tensor(-0.1006)\n",
      "tensor(-0.1024)\n",
      "tensor(-0.1042)\n",
      "tensor(-0.1277)\n",
      "tensor(-0.1294)\n",
      "tensor(-0.1377)\n",
      "tensor(-0.1346)\n",
      "tensor(-0.1822)\n",
      "tensor(-0.1939)\n",
      "tensor(-0.2051)\n",
      "tensor(-0.1986)\n",
      "tensor(-0.2204)\n",
      "tensor(-0.2227)\n",
      "tensor(-0.2708)\n",
      "tensor(-0.2598)\n",
      "tensor(-0.3121)\n",
      "tensor(-0.2799)\n",
      "tensor(-0.3124)\n",
      "tensor(-0.2881)\n",
      "tensor(-0.3525)\n",
      "tensor(-0.3427)\n",
      "tensor(-0.4249)\n",
      "tensor(-0.4696)\n",
      "tensor(-0.4393)\n",
      "tensor(-0.4993)\n",
      "tensor(-0.5246)\n",
      "tensor(-0.5315)\n",
      "tensor(-0.4788)\n",
      "tensor(-0.5082)\n",
      "tensor(-0.5100)\n",
      "tensor(-0.5744)\n",
      "tensor(-0.5619)\n",
      "tensor(-0.5705)\n",
      "tensor(-0.5894)\n",
      "tensor(-0.5969)\n",
      "tensor(-0.5927)\n",
      "tensor(-0.5952)\n",
      "tensor(-0.5936)\n",
      "tensor(-0.6187)\n",
      "tensor(-0.6232)\n",
      "tensor(-0.6426)\n",
      "tensor(-0.6423)\n",
      "tensor(-0.5725)\n",
      "tensor(-0.6449)\n",
      "tensor(-0.6027)\n",
      "tensor(-0.5992)\n",
      "tensor(-0.6264)\n",
      "tensor(-0.6554)\n",
      "tensor(-0.6342)\n",
      "tensor(-0.6565)\n",
      "tensor(-0.6516)\n",
      "tensor(-0.6559)\n",
      "tensor(-0.6564)\n",
      "tensor(-0.6590)\n",
      "tensor(-0.6433)\n",
      "tensor(-0.6057)\n",
      "tensor(-0.6114)\n",
      "tensor(-0.6656)\n",
      "tensor(-0.6492)\n",
      "tensor(-0.6645)\n",
      "tensor(-0.6649)\n",
      "tensor(-0.6645)\n",
      "tensor(-0.6398)\n",
      "tensor(-0.6772)\n",
      "tensor(-0.6635)\n",
      "tensor(-0.6691)\n",
      "tensor(-0.6674)\n",
      "tensor(-0.6704)\n",
      "tensor(-0.6696)\n",
      "tensor(-0.6711)\n",
      "tensor(-0.6756)\n",
      "tensor(-0.6587)\n"
     ]
    }
   ],
   "source": [
    "losses = []\n",
    "n_epochs = 100000\n",
    "for epoch in range(n_epochs):\n",
    "    x_d = torch.FloatTensor(next(distribution4(512)))\n",
    "    y_g = torch.FloatTensor(next(distribution2()))\n",
    "    optimizer.zero_grad()\n",
    "    loss = -(np.log(2) + 0.5 * torch.mean(torch.log(D(x_d))) + 0.5 * torch.mean(torch.log(1 - D(y_g))))\n",
    "    loss.backward()\n",
    "    optimizer.step()\n",
    "    losses.append(loss.data.numpy())\n",
    "    if epoch % 1000 == 0:\n",
    "        print(loss.data)\n",
    "    "
   ]
  },
  {
   "cell_type": "code",
   "execution_count": 49,
   "metadata": {},
   "outputs": [
    {
     "data": {
      "text/plain": [
       "[<matplotlib.lines.Line2D at 0x118d6ac18>]"
      ]
     },
     "execution_count": 49,
     "metadata": {},
     "output_type": "execute_result"
    },
    {
     "data": {
      "image/png": "[encoded data removed]",
      "text/plain": [
       "<Figure size 432x288 with 1 Axes>"
      ]
     },
     "metadata": {},
     "output_type": "display_data"
    }
   ],
   "source": [
    "plt.plot(np.array(losses).flatten())"
   ]
  },
  {
   "cell_type": "code",
   "execution_count": null,
   "metadata": {},
   "outputs": [],
   "source": []
  },
  {
   "cell_type": "code",
   "execution_count": null,
   "metadata": {},
   "outputs": [],
   "source": []
  },
  {
   "cell_type": "code",
   "execution_count": 248,
   "metadata": {},
   "outputs": [],
   "source": [
    "def jsd(p, q):\n",
    "    # find the norm and calculate r\n",
    "    p = (p / p.sum()).flatten()\n",
    "    q = (q / q.sum()).flatten()\n",
    "    r = 0.5 * (p + q)\n",
    "    \n",
    "    # find the first kl and do some data wrangling (we get some nans)\n",
    "    first_kl = p * np.log(p / r)\n",
    "    first_kl[np.isnan(first_kl)] = 100.\n",
    "    first_kl = np.sum(first_kl)\n",
    "\n",
    "    # find the first kl and do some data wrangling (we get some nans)\n",
    "    second_kl = q * np.log(q / r)\n",
    "    second_kl[np.isnan(second_kl)] = 100.\n",
    "    second_kl = np.sum(second_kl)\n",
    "    \n",
    "    # find the JSD\n",
    "    return np.log(2) + first_kl / 2. + second_kl / 2.\n"
   ]
  },
  {
   "cell_type": "code",
   "execution_count": null,
   "metadata": {},
   "outputs": [],
   "source": []
  },
  {
   "cell_type": "code",
   "execution_count": 261,
   "metadata": {},
   "outputs": [
    {
     "name": "stderr",
     "output_type": "stream",
     "text": [
      "/Users/martinweiss/.pyenv/versions/3.5.2/lib/python3.5/site-packages/ipykernel_launcher.py:9: RuntimeWarning: invalid value encountered in log\n",
      "  if __name__ == '__main__':\n",
      "/Users/martinweiss/.pyenv/versions/3.5.2/lib/python3.5/site-packages/ipykernel_launcher.py:14: RuntimeWarning: invalid value encountered in log\n",
      "  \n"
     ]
    },
    {
     "data": {
      "text/plain": [
       "9000.440461633685"
      ]
     },
     "execution_count": 261,
     "metadata": {},
     "output_type": "execute_result"
    }
   ],
   "source": [
    "jsd(x_d.flatten().numpy(), y_g[:512, 0].numpy())"
   ]
  },
  {
   "cell_type": "code",
   "execution_count": null,
   "metadata": {},
   "outputs": [],
   "source": []
  },
  {
   "cell_type": "code",
   "execution_count": 50,
   "metadata": {},
   "outputs": [
    {
     "name": "stderr",
     "output_type": "stream",
     "text": [
      "/Users/martinweiss/.pyenv/versions/3.5.2/lib/python3.5/site-packages/ipykernel_launcher.py:9: RuntimeWarning: invalid value encountered in log\n",
      "  if __name__ == '__main__':\n",
      "/Users/martinweiss/.pyenv/versions/3.5.2/lib/python3.5/site-packages/ipykernel_launcher.py:14: RuntimeWarning: invalid value encountered in log\n",
      "  \n"
     ]
    },
    {
     "data": {
      "text/plain": [
       "0.20500252021681908"
      ]
     },
     "execution_count": 50,
     "metadata": {},
     "output_type": "execute_result"
    }
   ],
   "source": [
    "\n",
    "jsd(next(distribution3()), next(distribution3()))"
   ]
  },
  {
   "cell_type": "code",
   "execution_count": null,
   "metadata": {},
   "outputs": [],
   "source": []
  },
  {
   "cell_type": "code",
   "execution_count": null,
   "metadata": {},
   "outputs": [],
   "source": []
  },
  {
   "cell_type": "code",
   "execution_count": null,
   "metadata": {},
   "outputs": [],
   "source": []
  },
  {
   "cell_type": "code",
   "execution_count": 68,
   "metadata": {},
   "outputs": [],
   "source": [
    "def calc_gradient_penalty(D, real_data, fake_data):\n",
    "    alpha = torch.rand(512, 1)\n",
    "    alpha = alpha.expand(real_data.size())\n",
    "\n",
    "    interpolates = alpha * real_data + ((1 - alpha) * fake_data)\n",
    "    interpolates = torch.autograd.Variable(interpolates, requires_grad=True)\n",
    "\n",
    "    disc_interpolates = D(interpolates)\n",
    "\n",
    "    gradients = torch.autograd.grad(outputs=disc_interpolates, inputs=interpolates,\n",
    "                              grad_outputs= torch.ones(disc_interpolates.size()),\n",
    "                              create_graph=True, retain_graph=True, only_inputs=True)[0]\n",
    "    lamb = 0.1\n",
    "    gradient_penalty = ((gradients.norm(2, dim=1) - 1) ** 2).mean() * lamb\n",
    "    return gradient_penalty\n"
   ]
  },
  {
   "cell_type": "code",
   "execution_count": 69,
   "metadata": {},
   "outputs": [],
   "source": [
    "D = MLP()"
   ]
  },
  {
   "cell_type": "code",
   "execution_count": 70,
   "metadata": {},
   "outputs": [],
   "source": [
    "lr = 0.001\n",
    "optimizer = torch.optim.SGD(D.parameters(), lr=lr)"
   ]
  },
  {
   "cell_type": "code",
   "execution_count": 71,
   "metadata": {},
   "outputs": [
    {
     "name": "stderr",
     "output_type": "stream",
     "text": [
      "/Users/martinweiss/.pyenv/versions/3.5.2/lib/python3.5/site-packages/torch/nn/functional.py:1332: UserWarning: nn.functional.sigmoid is deprecated. Use torch.sigmoid instead.\n",
      "  warnings.warn(\"nn.functional.sigmoid is deprecated. Use torch.sigmoid instead.\")\n"
     ]
    },
    {
     "ename": "NameError",
     "evalue": "name 'D_fake' is not defined",
     "output_type": "error",
     "traceback": [
      "\u001b[0;31m---------------------------------------------------------------------------\u001b[0m",
      "\u001b[0;31mNameError\u001b[0m                                 Traceback (most recent call last)",
      "\u001b[0;32m<ipython-input-71-2584b8bc7f21>\u001b[0m in \u001b[0;36m<module>\u001b[0;34m()\u001b[0m\n\u001b[1;32m      7\u001b[0m     \u001b[0mgradient_penalty\u001b[0m \u001b[0;34m=\u001b[0m \u001b[0mcalc_gradient_penalty\u001b[0m\u001b[0;34m(\u001b[0m\u001b[0mD\u001b[0m\u001b[0;34m,\u001b[0m \u001b[0mx_d\u001b[0m\u001b[0;34m.\u001b[0m\u001b[0mdata\u001b[0m\u001b[0;34m,\u001b[0m \u001b[0my_g\u001b[0m\u001b[0;34m.\u001b[0m\u001b[0mdata\u001b[0m\u001b[0;34m)\u001b[0m\u001b[0;34m\u001b[0m\u001b[0m\n\u001b[1;32m      8\u001b[0m     \u001b[0mgradient_penalty\u001b[0m\u001b[0;34m.\u001b[0m\u001b[0mbackward\u001b[0m\u001b[0;34m(\u001b[0m\u001b[0;34m)\u001b[0m\u001b[0;34m\u001b[0m\u001b[0m\n\u001b[0;32m----> 9\u001b[0;31m     \u001b[0mD_cost\u001b[0m \u001b[0;34m=\u001b[0m \u001b[0mD_fake\u001b[0m \u001b[0;34m-\u001b[0m \u001b[0mD_real\u001b[0m \u001b[0;34m+\u001b[0m \u001b[0mgradient_penalty\u001b[0m\u001b[0;34m\u001b[0m\u001b[0m\n\u001b[0m\u001b[1;32m     10\u001b[0m     \u001b[0mWasserstein_D\u001b[0m \u001b[0;34m=\u001b[0m \u001b[0mD_real\u001b[0m \u001b[0;34m-\u001b[0m \u001b[0mD_fake\u001b[0m\u001b[0;34m\u001b[0m\u001b[0m\n\u001b[1;32m     11\u001b[0m     \u001b[0moptimizerD\u001b[0m\u001b[0;34m.\u001b[0m\u001b[0mstep\u001b[0m\u001b[0;34m(\u001b[0m\u001b[0;34m)\u001b[0m\u001b[0;34m\u001b[0m\u001b[0m\n",
      "\u001b[0;31mNameError\u001b[0m: name 'D_fake' is not defined"
     ]
    }
   ],
   "source": [
    "losses = []\n",
    "n_epochs = 100000\n",
    "one = torch.FloatTensor([1])\n",
    "mone = one * -1\n",
    "\n",
    "for epoch in range(n_epochs):\n",
    "    x_d = torch.FloatTensor(next(distribution4(512)))\n",
    "    y_g = torch.FloatTensor(next(distribution2()))\n",
    "    optimizer.zero_grad()\n",
    "    \n",
    "    D(x_d).backward(one)\n",
    "    D(y_g).backward(mone)\n",
    "\n",
    "    \n",
    "    gradient_penalty = calc_gradient_penalty(D, x_d.data, y_g.data)\n",
    "    gradient_penalty.backward()\n",
    "    D_cost = D(y_g).mean() - D(x_d).mean() + gradient_penalty\n",
    "    Wasserstein_D = D_real - D_fake\n",
    "    optimizerD.step()\n",
    "    losses.append(loss.data.numpy())\n",
    "    if epoch % 1000 == 0:\n",
    "        print(loss.data)\n",
    "    "
   ]
  },
  {
   "cell_type": "code",
   "execution_count": null,
   "metadata": {},
   "outputs": [],
   "source": []
  }
 ],
 "metadata": {
  "kernelspec": {
   "display_name": "Python 3",
   "language": "python",
   "name": "python3"
  },
  "language_info": {
   "codemirror_mode": {
    "name": "ipython",
    "version": 3
   },
   "file_extension": ".py",
   "mimetype": "text/x-python",
   "name": "python",
   "nbconvert_exporter": "python",
   "pygments_lexer": "ipython3",
   "version": "3.5.2"
  }
 },
 "nbformat": 4,
 "nbformat_minor": 2
}
